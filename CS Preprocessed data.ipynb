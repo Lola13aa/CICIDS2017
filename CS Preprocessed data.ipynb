{
 "cells": [
  {
   "cell_type": "markdown",
   "id": "12428f05",
   "metadata": {},
   "source": [
    "# Analyse et prétraitement des données"
   ]
  },
  {
   "cell_type": "code",
   "execution_count": 1,
   "id": "2ed2ae38",
   "metadata": {},
   "outputs": [
    {
     "name": "stdout",
     "output_type": "stream",
     "text": [
      "Requirement already satisfied: imbalanced-learn in c:\\users\\pappu\\anaconda3\\lib\\site-packages (0.10.1)\n",
      "Requirement already satisfied: joblib>=1.1.1 in c:\\users\\pappu\\anaconda3\\lib\\site-packages (from imbalanced-learn) (1.2.0)\n",
      "Requirement already satisfied: scipy>=1.3.2 in c:\\users\\pappu\\anaconda3\\lib\\site-packages (from imbalanced-learn) (1.9.1)\n",
      "Requirement already satisfied: numpy>=1.17.3 in c:\\users\\pappu\\anaconda3\\lib\\site-packages (from imbalanced-learn) (1.21.5)\n",
      "Requirement already satisfied: scikit-learn>=1.0.2 in c:\\users\\pappu\\anaconda3\\lib\\site-packages (from imbalanced-learn) (1.0.2)\n",
      "Requirement already satisfied: threadpoolctl>=2.0.0 in c:\\users\\pappu\\anaconda3\\lib\\site-packages (from imbalanced-learn) (2.2.0)\n",
      "Note: you may need to restart the kernel to use updated packages.\n"
     ]
    }
   ],
   "source": [
    "#pip install -U imbalanced-learn"
   ]
  },
  {
   "cell_type": "code",
   "execution_count": 2,
   "id": "9586815c",
   "metadata": {},
   "outputs": [],
   "source": [
    "import pandas as pd\n",
    "from sklearn.model_selection import train_test_split\n",
    "from sklearn.preprocessing import StandardScaler\n",
    "from imblearn.over_sampling import SMOTE"
   ]
  },
  {
   "cell_type": "code",
   "execution_count": 4,
   "id": "91a89ab5",
   "metadata": {},
   "outputs": [],
   "source": [
    "# Load the dataset\n",
    "df = pd.read_csv(\"C:\\LP-CIS\\S6\\Machine Learning & CyberSec\\Devoir\\CICIDS2017_Thursday-WorkingHours-Morning-WebAttacks.pcap_ISCX.csv\")"
   ]
  },
  {
   "cell_type": "code",
   "execution_count": 5,
   "id": "385beac0",
   "metadata": {
    "scrolled": true
   },
   "outputs": [
    {
     "data": {
      "text/html": [
       "<div>\n",
       "<style scoped>\n",
       "    .dataframe tbody tr th:only-of-type {\n",
       "        vertical-align: middle;\n",
       "    }\n",
       "\n",
       "    .dataframe tbody tr th {\n",
       "        vertical-align: top;\n",
       "    }\n",
       "\n",
       "    .dataframe thead th {\n",
       "        text-align: right;\n",
       "    }\n",
       "</style>\n",
       "<table border=\"1\" class=\"dataframe\">\n",
       "  <thead>\n",
       "    <tr style=\"text-align: right;\">\n",
       "      <th></th>\n",
       "      <th>Destination Port</th>\n",
       "      <th>Flow Duration</th>\n",
       "      <th>Total Fwd Packets</th>\n",
       "      <th>Total Backward Packets</th>\n",
       "      <th>Total Length of Fwd Packets</th>\n",
       "      <th>Total Length of Bwd Packets</th>\n",
       "      <th>Fwd Packet Length Max</th>\n",
       "      <th>Fwd Packet Length Min</th>\n",
       "      <th>Fwd Packet Length Mean</th>\n",
       "      <th>Fwd Packet Length Std</th>\n",
       "      <th>...</th>\n",
       "      <th>min_seg_size_forward</th>\n",
       "      <th>Active Mean</th>\n",
       "      <th>Active Std</th>\n",
       "      <th>Active Max</th>\n",
       "      <th>Active Min</th>\n",
       "      <th>Idle Mean</th>\n",
       "      <th>Idle Std</th>\n",
       "      <th>Idle Max</th>\n",
       "      <th>Idle Min</th>\n",
       "      <th>Label</th>\n",
       "    </tr>\n",
       "  </thead>\n",
       "  <tbody>\n",
       "    <tr>\n",
       "      <th>0</th>\n",
       "      <td>389</td>\n",
       "      <td>113095465</td>\n",
       "      <td>48</td>\n",
       "      <td>24</td>\n",
       "      <td>9668</td>\n",
       "      <td>10012</td>\n",
       "      <td>403</td>\n",
       "      <td>0</td>\n",
       "      <td>201.416667</td>\n",
       "      <td>203.548293</td>\n",
       "      <td>...</td>\n",
       "      <td>32</td>\n",
       "      <td>203985.500</td>\n",
       "      <td>5.758373e+05</td>\n",
       "      <td>1629110</td>\n",
       "      <td>379</td>\n",
       "      <td>13800000.0</td>\n",
       "      <td>4.277541e+06</td>\n",
       "      <td>16500000</td>\n",
       "      <td>6737603</td>\n",
       "      <td>BENIGN</td>\n",
       "    </tr>\n",
       "    <tr>\n",
       "      <th>1</th>\n",
       "      <td>389</td>\n",
       "      <td>113473706</td>\n",
       "      <td>68</td>\n",
       "      <td>40</td>\n",
       "      <td>11364</td>\n",
       "      <td>12718</td>\n",
       "      <td>403</td>\n",
       "      <td>0</td>\n",
       "      <td>167.117647</td>\n",
       "      <td>171.919413</td>\n",
       "      <td>...</td>\n",
       "      <td>32</td>\n",
       "      <td>178326.875</td>\n",
       "      <td>5.034269e+05</td>\n",
       "      <td>1424245</td>\n",
       "      <td>325</td>\n",
       "      <td>13800000.0</td>\n",
       "      <td>4.229413e+06</td>\n",
       "      <td>16500000</td>\n",
       "      <td>6945512</td>\n",
       "      <td>BENIGN</td>\n",
       "    </tr>\n",
       "    <tr>\n",
       "      <th>2</th>\n",
       "      <td>0</td>\n",
       "      <td>119945515</td>\n",
       "      <td>150</td>\n",
       "      <td>0</td>\n",
       "      <td>0</td>\n",
       "      <td>0</td>\n",
       "      <td>0</td>\n",
       "      <td>0</td>\n",
       "      <td>0.000000</td>\n",
       "      <td>0.000000</td>\n",
       "      <td>...</td>\n",
       "      <td>0</td>\n",
       "      <td>6909777.333</td>\n",
       "      <td>1.170000e+07</td>\n",
       "      <td>20400000</td>\n",
       "      <td>6</td>\n",
       "      <td>24400000.0</td>\n",
       "      <td>2.430000e+07</td>\n",
       "      <td>60100000</td>\n",
       "      <td>5702188</td>\n",
       "      <td>BENIGN</td>\n",
       "    </tr>\n",
       "    <tr>\n",
       "      <th>3</th>\n",
       "      <td>443</td>\n",
       "      <td>60261928</td>\n",
       "      <td>9</td>\n",
       "      <td>7</td>\n",
       "      <td>2330</td>\n",
       "      <td>4221</td>\n",
       "      <td>1093</td>\n",
       "      <td>0</td>\n",
       "      <td>258.888889</td>\n",
       "      <td>409.702161</td>\n",
       "      <td>...</td>\n",
       "      <td>20</td>\n",
       "      <td>0.000</td>\n",
       "      <td>0.000000e+00</td>\n",
       "      <td>0</td>\n",
       "      <td>0</td>\n",
       "      <td>0.0</td>\n",
       "      <td>0.000000e+00</td>\n",
       "      <td>0</td>\n",
       "      <td>0</td>\n",
       "      <td>BENIGN</td>\n",
       "    </tr>\n",
       "    <tr>\n",
       "      <th>4</th>\n",
       "      <td>53</td>\n",
       "      <td>269</td>\n",
       "      <td>2</td>\n",
       "      <td>2</td>\n",
       "      <td>102</td>\n",
       "      <td>322</td>\n",
       "      <td>51</td>\n",
       "      <td>51</td>\n",
       "      <td>51.000000</td>\n",
       "      <td>0.000000</td>\n",
       "      <td>...</td>\n",
       "      <td>32</td>\n",
       "      <td>0.000</td>\n",
       "      <td>0.000000e+00</td>\n",
       "      <td>0</td>\n",
       "      <td>0</td>\n",
       "      <td>0.0</td>\n",
       "      <td>0.000000e+00</td>\n",
       "      <td>0</td>\n",
       "      <td>0</td>\n",
       "      <td>BENIGN</td>\n",
       "    </tr>\n",
       "  </tbody>\n",
       "</table>\n",
       "<p>5 rows × 79 columns</p>\n",
       "</div>"
      ],
      "text/plain": [
       "   Destination Port  Flow Duration  Total Fwd Packets  Total Backward Packets  \\\n",
       "0               389      113095465                 48                      24   \n",
       "1               389      113473706                 68                      40   \n",
       "2                 0      119945515                150                       0   \n",
       "3               443       60261928                  9                       7   \n",
       "4                53            269                  2                       2   \n",
       "\n",
       "   Total Length of Fwd Packets  Total Length of Bwd Packets  \\\n",
       "0                         9668                        10012   \n",
       "1                        11364                        12718   \n",
       "2                            0                            0   \n",
       "3                         2330                         4221   \n",
       "4                          102                          322   \n",
       "\n",
       "   Fwd Packet Length Max  Fwd Packet Length Min  Fwd Packet Length Mean  \\\n",
       "0                    403                      0              201.416667   \n",
       "1                    403                      0              167.117647   \n",
       "2                      0                      0                0.000000   \n",
       "3                   1093                      0              258.888889   \n",
       "4                     51                     51               51.000000   \n",
       "\n",
       "   Fwd Packet Length Std  ...  min_seg_size_forward  Active Mean  \\\n",
       "0             203.548293  ...                    32   203985.500   \n",
       "1             171.919413  ...                    32   178326.875   \n",
       "2               0.000000  ...                     0  6909777.333   \n",
       "3             409.702161  ...                    20        0.000   \n",
       "4               0.000000  ...                    32        0.000   \n",
       "\n",
       "     Active Std  Active Max  Active Min   Idle Mean      Idle Std  Idle Max  \\\n",
       "0  5.758373e+05     1629110         379  13800000.0  4.277541e+06  16500000   \n",
       "1  5.034269e+05     1424245         325  13800000.0  4.229413e+06  16500000   \n",
       "2  1.170000e+07    20400000           6  24400000.0  2.430000e+07  60100000   \n",
       "3  0.000000e+00           0           0         0.0  0.000000e+00         0   \n",
       "4  0.000000e+00           0           0         0.0  0.000000e+00         0   \n",
       "\n",
       "   Idle Min   Label  \n",
       "0   6737603  BENIGN  \n",
       "1   6945512  BENIGN  \n",
       "2   5702188  BENIGN  \n",
       "3         0  BENIGN  \n",
       "4         0  BENIGN  \n",
       "\n",
       "[5 rows x 79 columns]"
      ]
     },
     "execution_count": 5,
     "metadata": {},
     "output_type": "execute_result"
    }
   ],
   "source": [
    "df.head()"
   ]
  },
  {
   "cell_type": "code",
   "execution_count": 7,
   "id": "02d10b80",
   "metadata": {},
   "outputs": [],
   "source": [
    "# opimising the dataset's size\n",
    "import numpy as np\n",
    "df = df.copy()\n",
    "\n",
    "for column in df.columns:\n",
    "    if df[column].dtype == np.int64:\n",
    "        maxVal = df[column].max()\n",
    "        if maxVal < 120:\n",
    "            df[column] = df[column].astype(np.int8)\n",
    "        elif maxVal < 32767:\n",
    "            df[column] = df[column].astype(np.int16)\n",
    "        else:\n",
    "            df[column] = df[column].astype(np.int32)\n",
    "            \n",
    "    if df[column].dtype == np.float64:\n",
    "        maxVal = df[column].max()\n",
    "        minVal = df[df[column]>0][column]\n",
    "        if maxVal < 120 and minVal>0.01 :\n",
    "            df[column] = df[column].astype(np.float16)\n",
    "        else:\n",
    "            df[column] = df[column].astype(np.float32)"
   ]
  },
  {
   "cell_type": "code",
   "execution_count": 8,
   "id": "0eb730d7",
   "metadata": {
    "scrolled": true
   },
   "outputs": [
    {
     "name": "stdout",
     "output_type": "stream",
     "text": [
      "<class 'pandas.core.frame.DataFrame'>\n",
      "RangeIndex: 170366 entries, 0 to 170365\n",
      "Data columns (total 79 columns):\n",
      " #   Column                       Non-Null Count   Dtype  \n",
      "---  ------                       --------------   -----  \n",
      " 0   Destination Port             170366 non-null  int32  \n",
      " 1   Flow Duration                170366 non-null  int32  \n",
      " 2   Total Fwd Packets            170366 non-null  int32  \n",
      " 3   Total Backward Packets       170366 non-null  int32  \n",
      " 4   Total Length of Fwd Packets  170366 non-null  int32  \n",
      " 5   Total Length of Bwd Packets  170366 non-null  int32  \n",
      " 6   Fwd Packet Length Max        170366 non-null  int16  \n",
      " 7   Fwd Packet Length Min        170366 non-null  int16  \n",
      " 8   Fwd Packet Length Mean       170366 non-null  float32\n",
      " 9   Fwd Packet Length Std        170366 non-null  float32\n",
      " 10  Bwd Packet Length Max        170366 non-null  int16  \n",
      " 11  Bwd Packet Length Min        170366 non-null  int16  \n",
      " 12  Bwd Packet Length Mean       170366 non-null  float32\n",
      " 13  Bwd Packet Length Std        170366 non-null  float32\n",
      " 14  Flow Bytes/s                 170346 non-null  float32\n",
      " 15  Flow Packets/s               170366 non-null  float32\n",
      " 16  Flow IAT Mean                170366 non-null  float32\n",
      " 17  Flow IAT Std                 170366 non-null  float32\n",
      " 18  Flow IAT Max                 170366 non-null  int32  \n",
      " 19  Flow IAT Min                 170366 non-null  int32  \n",
      " 20  Fwd IAT Total                170366 non-null  int32  \n",
      " 21  Fwd IAT Mean                 170366 non-null  float32\n",
      " 22  Fwd IAT Std                  170366 non-null  float32\n",
      " 23  Fwd IAT Max                  170366 non-null  int32  \n",
      " 24  Fwd IAT Min                  170366 non-null  int32  \n",
      " 25  Bwd IAT Total                170366 non-null  int32  \n",
      " 26  Bwd IAT Mean                 170366 non-null  float32\n",
      " 27  Bwd IAT Std                  170366 non-null  float32\n",
      " 28  Bwd IAT Max                  170366 non-null  int32  \n",
      " 29  Bwd IAT Min                  170366 non-null  int32  \n",
      " 30  Fwd PSH Flags                170366 non-null  int8   \n",
      " 31  Bwd PSH Flags                170366 non-null  int8   \n",
      " 32  Fwd URG Flags                170366 non-null  int8   \n",
      " 33  Bwd URG Flags                170366 non-null  int8   \n",
      " 34  Fwd Header Length            170366 non-null  int32  \n",
      " 35  Bwd Header Length            170366 non-null  int32  \n",
      " 36  Fwd Packets/s                170366 non-null  float32\n",
      " 37  Bwd Packets/s                170366 non-null  float32\n",
      " 38  Min Packet Length            170366 non-null  int16  \n",
      " 39  Max Packet Length            170366 non-null  int16  \n",
      " 40  Packet Length Mean           170366 non-null  float32\n",
      " 41  Packet Length Std            170366 non-null  float32\n",
      " 42  Packet Length Variance       170366 non-null  float32\n",
      " 43  FIN Flag Count               170366 non-null  int8   \n",
      " 44  SYN Flag Count               170366 non-null  int8   \n",
      " 45  RST Flag Count               170366 non-null  int8   \n",
      " 46  PSH Flag Count               170366 non-null  int8   \n",
      " 47  ACK Flag Count               170366 non-null  int8   \n",
      " 48  URG Flag Count               170366 non-null  int8   \n",
      " 49  CWE Flag Count               170366 non-null  int8   \n",
      " 50  ECE Flag Count               170366 non-null  int8   \n",
      " 51  Down/Up Ratio                170366 non-null  int8   \n",
      " 52  Average Packet Size          170366 non-null  float32\n",
      " 53  Avg Fwd Segment Size         170366 non-null  float32\n",
      " 54  Avg Bwd Segment Size         170366 non-null  float32\n",
      " 55  Fwd Header Length.1          170366 non-null  int32  \n",
      " 56  Fwd Avg Bytes/Bulk           170366 non-null  int8   \n",
      " 57  Fwd Avg Packets/Bulk         170366 non-null  int8   \n",
      " 58  Fwd Avg Bulk Rate            170366 non-null  int8   \n",
      " 59  Bwd Avg Bytes/Bulk           170366 non-null  int8   \n",
      " 60  Bwd Avg Packets/Bulk         170366 non-null  int8   \n",
      " 61  Bwd Avg Bulk Rate            170366 non-null  int8   \n",
      " 62  Subflow Fwd Packets          170366 non-null  int32  \n",
      " 63  Subflow Fwd Bytes            170366 non-null  int32  \n",
      " 64  Subflow Bwd Packets          170366 non-null  int32  \n",
      " 65  Subflow Bwd Bytes            170366 non-null  int32  \n",
      " 66  Init_Win_bytes_forward       170366 non-null  int32  \n",
      " 67  Init_Win_bytes_backward      170366 non-null  int32  \n",
      " 68  act_data_pkt_fwd             170366 non-null  int32  \n",
      " 69  min_seg_size_forward         170366 non-null  int8   \n",
      " 70  Active Mean                  170366 non-null  float32\n",
      " 71  Active Std                   170366 non-null  float32\n",
      " 72  Active Max                   170366 non-null  int32  \n",
      " 73  Active Min                   170366 non-null  int32  \n",
      " 74  Idle Mean                    170366 non-null  float32\n",
      " 75  Idle Std                     170366 non-null  float32\n",
      " 76  Idle Max                     170366 non-null  int32  \n",
      " 77  Idle Min                     170366 non-null  int32  \n",
      " 78  Label                        170366 non-null  object \n",
      "dtypes: float32(24), int16(6), int32(28), int8(20), object(1)\n",
      "memory usage: 40.3+ MB\n"
     ]
    }
   ],
   "source": [
    "#after optimize of size\n",
    "df.info()"
   ]
  },
  {
   "cell_type": "code",
   "execution_count": 9,
   "id": "c3cb078c",
   "metadata": {},
   "outputs": [],
   "source": [
    "# Feature selection\n",
    "df = df[['Destination Port', 'Flow Duration', 'Total Fwd Packets', 'Total Backward Packets',\n",
    "         'Total Length of Fwd Packets', 'Total Length of Bwd Packets', 'Fwd Packet Length Max',\n",
    "         'Fwd Packet Length Min', 'Fwd Packet Length Mean', 'Fwd Packet Length Std', \n",
    "         'Bwd Packet Length Max', 'Bwd Packet Length Min', 'Bwd Packet Length Mean',\n",
    "         'Bwd Packet Length Std', 'Flow Bytes/s', 'Flow Packets/s', 'Flow IAT Mean', \n",
    "         'Flow IAT Std', 'Flow IAT Max', 'Flow IAT Min', 'Fwd IAT Total', 'Fwd IAT Mean', \n",
    "         'Fwd IAT Std', 'Fwd IAT Max', 'Fwd IAT Min', 'Bwd IAT Total', 'Bwd IAT Mean',\n",
    "         'Bwd IAT Std', 'Bwd IAT Max', 'Bwd IAT Min', 'Fwd PSH Flags', 'Bwd PSH Flags', \n",
    "         'Fwd URG Flags', 'Bwd URG Flags', 'FIN Flag Count', 'SYN Flag Count', 'RST Flag Count',\n",
    "         'PSH Flag Count', 'ACK Flag Count', 'URG Flag Count', 'Label']]\n"
   ]
  },
  {
   "cell_type": "code",
   "execution_count": 10,
   "id": "5db39548",
   "metadata": {
    "scrolled": true
   },
   "outputs": [
    {
     "name": "stdout",
     "output_type": "stream",
     "text": [
      "<class 'pandas.core.frame.DataFrame'>\n",
      "RangeIndex: 170366 entries, 0 to 170365\n",
      "Data columns (total 41 columns):\n",
      " #   Column                       Non-Null Count   Dtype  \n",
      "---  ------                       --------------   -----  \n",
      " 0   Destination Port             170366 non-null  int32  \n",
      " 1   Flow Duration                170366 non-null  int32  \n",
      " 2   Total Fwd Packets            170366 non-null  int32  \n",
      " 3   Total Backward Packets       170366 non-null  int32  \n",
      " 4   Total Length of Fwd Packets  170366 non-null  int32  \n",
      " 5   Total Length of Bwd Packets  170366 non-null  int32  \n",
      " 6   Fwd Packet Length Max        170366 non-null  int16  \n",
      " 7   Fwd Packet Length Min        170366 non-null  int16  \n",
      " 8   Fwd Packet Length Mean       170366 non-null  float32\n",
      " 9   Fwd Packet Length Std        170366 non-null  float32\n",
      " 10  Bwd Packet Length Max        170366 non-null  int16  \n",
      " 11  Bwd Packet Length Min        170366 non-null  int16  \n",
      " 12  Bwd Packet Length Mean       170366 non-null  float32\n",
      " 13  Bwd Packet Length Std        170366 non-null  float32\n",
      " 14  Flow Bytes/s                 170346 non-null  float32\n",
      " 15  Flow Packets/s               170366 non-null  float32\n",
      " 16  Flow IAT Mean                170366 non-null  float32\n",
      " 17  Flow IAT Std                 170366 non-null  float32\n",
      " 18  Flow IAT Max                 170366 non-null  int32  \n",
      " 19  Flow IAT Min                 170366 non-null  int32  \n",
      " 20  Fwd IAT Total                170366 non-null  int32  \n",
      " 21  Fwd IAT Mean                 170366 non-null  float32\n",
      " 22  Fwd IAT Std                  170366 non-null  float32\n",
      " 23  Fwd IAT Max                  170366 non-null  int32  \n",
      " 24  Fwd IAT Min                  170366 non-null  int32  \n",
      " 25  Bwd IAT Total                170366 non-null  int32  \n",
      " 26  Bwd IAT Mean                 170366 non-null  float32\n",
      " 27  Bwd IAT Std                  170366 non-null  float32\n",
      " 28  Bwd IAT Max                  170366 non-null  int32  \n",
      " 29  Bwd IAT Min                  170366 non-null  int32  \n",
      " 30  Fwd PSH Flags                170366 non-null  int8   \n",
      " 31  Bwd PSH Flags                170366 non-null  int8   \n",
      " 32  Fwd URG Flags                170366 non-null  int8   \n",
      " 33  Bwd URG Flags                170366 non-null  int8   \n",
      " 34  FIN Flag Count               170366 non-null  int8   \n",
      " 35  SYN Flag Count               170366 non-null  int8   \n",
      " 36  RST Flag Count               170366 non-null  int8   \n",
      " 37  PSH Flag Count               170366 non-null  int8   \n",
      " 38  ACK Flag Count               170366 non-null  int8   \n",
      " 39  URG Flag Count               170366 non-null  int8   \n",
      " 40  Label                        170366 non-null  object \n",
      "dtypes: float32(12), int16(4), int32(14), int8(10), object(1)\n",
      "memory usage: 21.1+ MB\n"
     ]
    }
   ],
   "source": [
    "#selecting the necessary columns : remaining 40\n",
    "df.info()"
   ]
  },
  {
   "cell_type": "code",
   "execution_count": 18,
   "id": "9228f311",
   "metadata": {},
   "outputs": [
    {
     "data": {
      "text/plain": [
       "BENIGN                        168186\n",
       "Web Attack � Brute Force        1507\n",
       "Web Attack � XSS                 652\n",
       "Web Attack � Sql Injection        21\n",
       "Name: Label, dtype: int64"
      ]
     },
     "execution_count": 18,
     "metadata": {},
     "output_type": "execute_result"
    }
   ],
   "source": [
    "df['Label'].value_counts()"
   ]
  },
  {
   "cell_type": "code",
   "execution_count": 19,
   "id": "2ca25b63",
   "metadata": {},
   "outputs": [
    {
     "data": {
      "text/plain": [
       "array([0, 1, 3, 2])"
      ]
     },
     "execution_count": 19,
     "metadata": {},
     "output_type": "execute_result"
    }
   ],
   "source": [
    "from sklearn. preprocessing import LabelEncoder\n",
    "#from categorical data to numerical format\n",
    "label = LabelEncoder()\n",
    "df['Label' ]= label.fit_transform(df[ 'Label' ] )\n",
    "df['Label'].unique()"
   ]
  },
  {
   "cell_type": "code",
   "execution_count": 20,
   "id": "9633ec11",
   "metadata": {
    "scrolled": true
   },
   "outputs": [
    {
     "data": {
      "text/plain": [
       "Destination Port                0\n",
       "Flow Duration                   0\n",
       "Total Fwd Packets               0\n",
       "Total Backward Packets          0\n",
       "Total Length of Fwd Packets     0\n",
       "Total Length of Bwd Packets     0\n",
       "Fwd Packet Length Max           0\n",
       "Fwd Packet Length Min           0\n",
       "Fwd Packet Length Mean          0\n",
       "Fwd Packet Length Std           0\n",
       "Bwd Packet Length Max           0\n",
       "Bwd Packet Length Min           0\n",
       "Bwd Packet Length Mean          0\n",
       "Bwd Packet Length Std           0\n",
       "Flow Bytes/s                   20\n",
       "Flow Packets/s                  0\n",
       "Flow IAT Mean                   0\n",
       "Flow IAT Std                    0\n",
       "Flow IAT Max                    0\n",
       "Flow IAT Min                    0\n",
       "Fwd IAT Total                   0\n",
       "Fwd IAT Mean                    0\n",
       "Fwd IAT Std                     0\n",
       "Fwd IAT Max                     0\n",
       "Fwd IAT Min                     0\n",
       "Bwd IAT Total                   0\n",
       "Bwd IAT Mean                    0\n",
       "Bwd IAT Std                     0\n",
       "Bwd IAT Max                     0\n",
       "Bwd IAT Min                     0\n",
       "Fwd PSH Flags                   0\n",
       "Bwd PSH Flags                   0\n",
       "Fwd URG Flags                   0\n",
       "Bwd URG Flags                   0\n",
       "FIN Flag Count                  0\n",
       "SYN Flag Count                  0\n",
       "RST Flag Count                  0\n",
       "PSH Flag Count                  0\n",
       "ACK Flag Count                  0\n",
       "URG Flag Count                  0\n",
       "Label                           0\n",
       "dtype: int64"
      ]
     },
     "execution_count": 20,
     "metadata": {},
     "output_type": "execute_result"
    }
   ],
   "source": [
    "#show missing data\n",
    "df.isnull().sum()"
   ]
  },
  {
   "cell_type": "code",
   "execution_count": 21,
   "id": "08324b9a",
   "metadata": {},
   "outputs": [],
   "source": [
    "# Handle missing data\n",
    "df['Flow Bytes/s'].fillna(df['Flow Bytes/s'].mean(),inplace=True)"
   ]
  },
  {
   "cell_type": "code",
   "execution_count": 22,
   "id": "d6216fe9",
   "metadata": {
    "scrolled": false
   },
   "outputs": [],
   "source": [
    "#handle infinite values and NaN values\n",
    "df = df.replace([np.inf, -np.inf], np.nan)\n",
    "df = df.dropna()"
   ]
  },
  {
   "cell_type": "code",
   "execution_count": 23,
   "id": "fe616348",
   "metadata": {
    "scrolled": true
   },
   "outputs": [
    {
     "data": {
      "text/plain": [
       "Destination Port               0\n",
       "Flow Duration                  0\n",
       "Total Fwd Packets              0\n",
       "Total Backward Packets         0\n",
       "Total Length of Fwd Packets    0\n",
       "Total Length of Bwd Packets    0\n",
       "Fwd Packet Length Max          0\n",
       "Fwd Packet Length Min          0\n",
       "Fwd Packet Length Mean         0\n",
       "Fwd Packet Length Std          0\n",
       "Bwd Packet Length Max          0\n",
       "Bwd Packet Length Min          0\n",
       "Bwd Packet Length Mean         0\n",
       "Bwd Packet Length Std          0\n",
       "Flow Bytes/s                   0\n",
       "Flow Packets/s                 0\n",
       "Flow IAT Mean                  0\n",
       "Flow IAT Std                   0\n",
       "Flow IAT Max                   0\n",
       "Flow IAT Min                   0\n",
       "Fwd IAT Total                  0\n",
       "Fwd IAT Mean                   0\n",
       "Fwd IAT Std                    0\n",
       "Fwd IAT Max                    0\n",
       "Fwd IAT Min                    0\n",
       "Bwd IAT Total                  0\n",
       "Bwd IAT Mean                   0\n",
       "Bwd IAT Std                    0\n",
       "Bwd IAT Max                    0\n",
       "Bwd IAT Min                    0\n",
       "Fwd PSH Flags                  0\n",
       "Bwd PSH Flags                  0\n",
       "Fwd URG Flags                  0\n",
       "Bwd URG Flags                  0\n",
       "FIN Flag Count                 0\n",
       "SYN Flag Count                 0\n",
       "RST Flag Count                 0\n",
       "PSH Flag Count                 0\n",
       "ACK Flag Count                 0\n",
       "URG Flag Count                 0\n",
       "Label                          0\n",
       "dtype: int64"
      ]
     },
     "execution_count": 23,
     "metadata": {},
     "output_type": "execute_result"
    }
   ],
   "source": [
    "df.isnull().sum()"
   ]
  },
  {
   "cell_type": "code",
   "execution_count": 24,
   "id": "e01d90a2",
   "metadata": {
    "scrolled": true
   },
   "outputs": [
    {
     "name": "stdout",
     "output_type": "stream",
     "text": [
      "0         False\n",
      "1         False\n",
      "2         False\n",
      "3         False\n",
      "4         False\n",
      "          ...  \n",
      "170361    False\n",
      "170362    False\n",
      "170363    False\n",
      "170364     True\n",
      "170365    False\n",
      "Length: 170231, dtype: bool\n"
     ]
    }
   ],
   "source": [
    "# find duplicated rows\n",
    "dup_rows = df.duplicated()\n",
    "df = df.drop_duplicates()\n",
    "print(dup_rows)\n"
   ]
  },
  {
   "cell_type": "code",
   "execution_count": 25,
   "id": "3fc71eb4",
   "metadata": {},
   "outputs": [
    {
     "name": "stdout",
     "output_type": "stream",
     "text": [
      "Duplicated column names: ['Fwd URG Flags', 'Bwd URG Flags', 'SYN Flag Count']\n"
     ]
    }
   ],
   "source": [
    "# check for duplicated columns\n",
    "duplicated_cols = df.T.duplicated()\n",
    "\n",
    "# get duplicated column names\n",
    "duplicated_col_names = df.columns[duplicated_cols].tolist()\n",
    "\n",
    "print(\"Duplicated column names:\", duplicated_col_names)"
   ]
  },
  {
   "cell_type": "code",
   "execution_count": 31,
   "id": "ffccf9a5",
   "metadata": {
    "scrolled": true
   },
   "outputs": [
    {
     "name": "stdout",
     "output_type": "stream",
     "text": [
      "        Destination Port  Flow Duration  Total Fwd Packets  \\\n",
      "0                    389      113095465                 48   \n",
      "1                    389      113473706                 68   \n",
      "2                      0      119945515                150   \n",
      "3                    443       60261928                  9   \n",
      "4                     53            269                  2   \n",
      "...                  ...            ...                ...   \n",
      "170360               443            181                  3   \n",
      "170361             55641             49                  1   \n",
      "170362             45337            217                  2   \n",
      "170363                22        1387547                 41   \n",
      "170365             60146             50                  1   \n",
      "\n",
      "        Total Backward Packets  Total Length of Fwd Packets  \\\n",
      "0                           24                         9668   \n",
      "1                           40                        11364   \n",
      "2                            0                            0   \n",
      "3                            7                         2330   \n",
      "4                            2                          102   \n",
      "...                        ...                          ...   \n",
      "170360                       1                           18   \n",
      "170361                       3                            6   \n",
      "170362                       1                           31   \n",
      "170363                      46                         2728   \n",
      "170365                       2                            0   \n",
      "\n",
      "        Total Length of Bwd Packets  Fwd Packet Length Max  \\\n",
      "0                             10012                    403   \n",
      "1                             12718                    403   \n",
      "2                                 0                      0   \n",
      "3                              4221                   1093   \n",
      "4                               322                     51   \n",
      "...                             ...                    ...   \n",
      "170360                            6                      6   \n",
      "170361                           18                      6   \n",
      "170362                            6                     31   \n",
      "170363                         6634                    456   \n",
      "170365                            0                      0   \n",
      "\n",
      "        Fwd Packet Length Min  Fwd Packet Length Mean  Fwd Packet Length Std  \\\n",
      "0                           0              201.416672             203.548294   \n",
      "1                           0              167.117645             171.919418   \n",
      "2                           0                0.000000               0.000000   \n",
      "3                           0              258.888885             409.702148   \n",
      "4                          51               51.000000               0.000000   \n",
      "...                       ...                     ...                    ...   \n",
      "170360                      6                6.000000               0.000000   \n",
      "170361                      6                6.000000               0.000000   \n",
      "170362                      0               15.500000              21.920311   \n",
      "170363                      0               66.536583             110.129944   \n",
      "170365                      0                0.000000               0.000000   \n",
      "\n",
      "        ...  Bwd IAT Min  Fwd PSH Flags  Bwd PSH Flags  FIN Flag Count  \\\n",
      "0       ...            3              1              0               0   \n",
      "1       ...            3              1              0               0   \n",
      "2       ...            0              0              0               0   \n",
      "3       ...           48              0              0               0   \n",
      "4       ...            4              0              0               0   \n",
      "...     ...          ...            ...            ...             ...   \n",
      "170360  ...            0              0              0               1   \n",
      "170361  ...            1              0              0               1   \n",
      "170362  ...            0              1              0               0   \n",
      "170363  ...            1              0              0               0   \n",
      "170365  ...            1              0              0               0   \n",
      "\n",
      "        SYN Flag Count  RST Flag Count  PSH Flag Count  ACK Flag Count  \\\n",
      "0                    1               0               0               1   \n",
      "1                    1               0               0               1   \n",
      "2                    0               0               0               0   \n",
      "3                    0               0               1               0   \n",
      "4                    0               0               0               0   \n",
      "...                ...             ...             ...             ...   \n",
      "170360               0               0               0               0   \n",
      "170361               0               0               0               0   \n",
      "170362               1               0               0               1   \n",
      "170363               0               0               1               0   \n",
      "170365               0               0               0               1   \n",
      "\n",
      "        URG Flag Count  Label  \n",
      "0                    0      0  \n",
      "1                    0      0  \n",
      "2                    0      0  \n",
      "3                    0      0  \n",
      "4                    0      0  \n",
      "...                ...    ...  \n",
      "170360               0      0  \n",
      "170361               0      0  \n",
      "170362               0      0  \n",
      "170363               0      0  \n",
      "170365               1      0  \n",
      "\n",
      "[159742 rows x 39 columns]\n"
     ]
    }
   ],
   "source": [
    "# drop duplicated columns and keep only one column\n",
    "df = df.drop(['Fwd URG Flags', 'Bwd URG Flags'], axis=1)"
   ]
  },
  {
   "cell_type": "code",
   "execution_count": 33,
   "id": "6cc94016",
   "metadata": {},
   "outputs": [
    {
     "data": {
      "text/plain": [
       "(159742, 39)"
      ]
     },
     "execution_count": 33,
     "metadata": {},
     "output_type": "execute_result"
    }
   ],
   "source": [
    "df.shape"
   ]
  },
  {
   "cell_type": "code",
   "execution_count": 40,
   "id": "538b12e6",
   "metadata": {},
   "outputs": [],
   "source": [
    "#End of preprocessing step\n",
    "# Save the preprocessed dataset\n",
    "df.to_csv('preprocessed_dataset.csv', index=False)"
   ]
  },
  {
   "cell_type": "code",
   "execution_count": null,
   "id": "a79120ca",
   "metadata": {},
   "outputs": [],
   "source": []
  }
 ],
 "metadata": {
  "kernelspec": {
   "display_name": "Python 3 (ipykernel)",
   "language": "python",
   "name": "python3"
  },
  "language_info": {
   "codemirror_mode": {
    "name": "ipython",
    "version": 3
   },
   "file_extension": ".py",
   "mimetype": "text/x-python",
   "name": "python",
   "nbconvert_exporter": "python",
   "pygments_lexer": "ipython3",
   "version": "3.9.13"
  }
 },
 "nbformat": 4,
 "nbformat_minor": 5
}
